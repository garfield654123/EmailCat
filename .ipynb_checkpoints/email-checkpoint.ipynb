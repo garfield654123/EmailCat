{
 "cells": [
  {
   "cell_type": "code",
   "execution_count": 2,
   "metadata": {
    "id": "WhO1ClJB8gpe"
   },
   "outputs": [],
   "source": [
    "a=\"\"\"'Hi 柏文\\r\\n\\r\\n \\r\\n\\r\\n        此問題仍在查詢中，請問下周一方便與您約定時間重開機嘛?\\r\\n\\r\\n        謝謝\\r\\n\\r\\n \\r\\n\\r\\nFrom: 台灣東方馬達 Akira <zakirahuei@orientalmotor.com.tw> \\r\\nSent: Friday, July 1, 2022 10:48 AM\\r\\nTo: Yumi Yu[俞瓊瑤] <yumi.yu@104.com.tw>\\r\\nCc: Andy Huang[黃聖峯] <andy.huang@104.com.tw>; 台灣東方馬達-王柏文 <benwang@orientalmotor.com.tw>; Sky Ku[辜士育] <sky.ku@104.com.tw>; ehrms_flow <ehrms_flow@104.com.tw>; Gracechen[陳思穎] <gracechen@104.com.tw>; ehrms_fae <ehrms_fae@104.com.tw>; Penny Lin[林培宇] <penny.lin@104.com.tw>; Ryan Chou <chou@orientalmotor.com.tw>; Yu-chin Chen <bcsnujrhu@orientalmotor.com.tw>; Rachael Chen[陳韻如] <rachael.chen@104.com.tw>\\r\\nSubject: Re: =依賴= 離職證明無法順利列印\\r\\n\\r\\n \\r\\n\\r\\nHi, Yumi:\\r\\n\\r\\n \\r\\n\\r\\nremote info as below:\\r\\n\\r\\n \\r\\n\\r\\nt68jfrwr\\r\\n\\r\\n \\r\\n\\r\\nYumi Yu[俞瓊瑤] <yumi.yu@104.com.tw <mailto:yumi.yu@104.com.tw> > 於 2022年7月1日 週五 上午9:16寫道：\\r\\n\\r\\n\\tHi 柏文 您好：\\r\\n\\r\\n\\t \\r\\n\\r\\n\\t        再麻煩協助提供今日 Ehrms Server 連線的密碼，謝謝\\r\\n\\r\\n\\t \\r\\n\\r\\n\\tFrom: Andy Huang[黃聖峯] <andy.huang@104.com.tw <mailto:andy.huang@104.com.tw> > \\r\\n\\tSent: Thursday, June 30, 2022 7:04 PM\\r\\n\\tTo: 台灣東方馬達-王柏文 <benwang@orientalmotor.com.tw <mailto:benwang@orientalmotor.com.tw> >; Yumi Yu[俞瓊瑤] <yumi.yu@104.com.tw <mailto:yumi.yu@104.com.tw> >\\r\\n\\tCc: Sky Ku[辜士育] <sky.ku@104.com.tw <mailto:sky.ku@104.com.tw> >; ehrms_flow <ehrms_flow@104.com.tw <mailto:ehrms_flow@104.com.tw> >; Gracechen[陳思穎] <gracechen@104.com.tw <mailto:gracechen@104.com.tw> >; ehrms_fae <ehrms_fae@104.com.tw <mailto:ehrms_fae@104.com.tw> >; Penny Lin[林培宇] <penny.lin@104.com.tw <mailto:penny.lin@104.com.tw> >; Ryan Chou <chou@orientalmotor.com.tw <mailto:chou@orientalmotor.com.tw> >; (系統課)林曜暉 <zakirahuei@orientalmotor.com.tw <mailto:zakirahuei@orientalmotor.com.tw> >; Yu-chin Chen <bcsnujrhu@orientalmotor.com.tw <mailto:bcsnujrhu@orientalmotor.com.tw> >; Rachael Chen[陳韻如] <rachael.chen@104.com.tw <mailto:rachael.chen@104.com.tw> >\\r\\n\\tSubject: RE: =依賴= 離職證明無法順利列印\\r\\n\\r\\n\\t \\r\\n\\r\\n\\tHi 柏文 您好：\\r\\n\\r\\n\\t \\r\\n\\r\\n\\t收到，離職證明無法順利列印的部份，我們還在進行當中，明天再開連線給Yumi。\\r\\n\\r\\n\\t \\r\\n\\r\\n歡迎您再度和我聯絡(為避免我們因在電話中而耽誤接聽您電話的時間，建議您先以 EMAIL 方式回覆給我，我將在收到您的來信後儘速與您連絡)。謝謝！\\r\\n\\r\\n\\r\\n\\r\\n黃聖峰 Huang Andy\\r\\n\\r\\n客戶關係五課\\r\\n\\r\\n服務專線：\\r\\n02-29126104 ext 6109\\r\\n\\r\\n02-77033104 ext 6109\\r\\n\\r\\n電子信箱：Andy.Huang@104.com.tw <mailto:Andy.Huang@104.com.tw> \\r\\n\\r\\n23144 新北市新店區寶中路119號9樓\\r\\n\\r\\nIf this email (and any attachments) contains information that is marked as confidential, then the named addressee (or recipient) shall not disclose, forward, or disseminate this email or any part of it to any unauthorized person. Any violation of this statement of the named addressee (or recipient) may cause a civil or criminal action taken by 104 Corporation.本郵件（含附件）之內容若標示有機密字義，收件人不得再將之揭露、轉寄或散佈予無權接收之任何他人。違反者，本公司將對之採取民刑事法律行動。\\r\\n\\r\\n\\t \\r\\n\\r\\n\\t \\r\\n\\r\\n\\tFrom: 台灣東方馬達-王柏文 <benwang@orientalmotor.com.tw <mailto:benwang@orientalmotor.com.tw> > \\r\\n\\tSent: Thursday, June 30, 2022 5:13 PM\\r\\n\\tTo: Andy Huang[黃聖峯] <andy.huang@104.com.tw <mailto:andy.huang@104.com.tw> >\\r\\n\\tCc: Yumi Yu[俞瓊瑤] <yumi.yu@104.com.tw <mailto:yumi.yu@104.com.tw> >; Sky Ku[辜士育] <sky.ku@104.com.tw <mailto:sky.ku@104.com.tw> >; ehrms_flow <ehrms_flow@104.com.tw <mailto:ehrms_flow@104.com.tw> >; Gracechen[陳思穎] <gracechen@104.com.tw <mailto:gracechen@104.com.tw> >; ehrms_fae <ehrms_fae@104.com.tw <mailto:ehrms_fae@104.com.tw> >; Penny Lin[林培宇] <penny.lin@104.com.tw <mailto:penny.lin@104.com.tw> >; Ryan Chou <chou@orientalmotor.com.tw <mailto:chou@orientalmotor.com.tw> >; (系統課)林曜暉 <zakirahuei@orientalmotor.com.tw <mailto:zakirahuei@orientalmotor.com.tw> >; Yu-chin Chen <bcsnujrhu@orientalmotor.com.tw <mailto:bcsnujrhu@orientalmotor.com.tw> >; Rachael Chen[陳韻如] <rachael.chen@104.com.tw <mailto:rachael.chen@104.com.tw> >\\r\\n\\tSubject: Re: =依賴= 離職證明無法順利列印\\r\\n\\r\\n\\t \\r\\n\\r\\n\\tDear黃先生\\r\\n\\r\\n\\t \\r\\n\\r\\n\\t此部分經上午我司系統課進行資料重新抓取後，\\r\\n\\r\\n\\t已恢復正常了。\\r\\n\\r\\n\\t \\r\\n\\r\\n\\t以上，感謝。\\r\\n\\r\\n\\t \\r\\n\\r\\n\\t***********************************************************\\r\\n\\r\\n\\t台灣東方馬達股份有限公司\\r\\n\\t管理部人事總務課    王柏文\\r\\n\\r\\n\\tTEL:02-8228-0707  #2108\\r\\n\\tFAX:02-8228-0708\\r\\n\\r\\n\\t客戶諮詢專線:0800-060-708\\r\\n\\r\\n\\t企業形象官網：https://hr.orientalmotor.com.tw/\\r\\n\\r\\n\\tMAIL:benwang@orientalmotor.com.tw <mailto:benwang@orientalmotor.com.tw> \\r\\n\\r\\n\\t <https://www.orientalmotor.com.tw/image/logo.gif> \\r\\n\\r\\n\\t************************************************************\\r\\n\\r\\n\\t \\r\\n\\r\\n <https://mailtrack.io/?utm_source=gmail&utm_medium=signature&utm_campaign=signaturevirality11&> \\r\\n\\r\\nSender notified by \\r\\nMailtrack <https://mailtrack.io?utm_source=gmail&utm_medium=signature&utm_campaign=signaturevirality11&>  \\r\\n\\r\\n22/06/30 下午05:12:04\\r\\n\\r\\n\\t\\r\\n\\r\\n\\t\\r\\n\\t <https://mailtrack.io/trace/mail/f3c9cf6d45d0b8bb505cb9d53e46412dcba49568.png?u=6642968> \\r\\n\\r\\n\\tAndy Huang[黃聖峯] <andy.huang@104.com.tw <mailto:andy.huang@104.com.tw> > 於 2022年6月30日 週四 下午2:28寫道：\\r\\n\\r\\n\\t\\tHi 柏文，\\r\\n\\r\\n\\t\\t不好意思，剛剛致電給您。\\r\\n\\t\\t檢查後，看資料在上午9:35 及 11:35 各做一次。\\r\\n\\t\\t9:35的資料只有兩筆，11:35的比較多，想和您再確認一下曠職的部份。\\r\\n\\r\\n\\t\\t麻煩您再回信或回電給我。\\r\\n\\r\\n\\t\\t\\r\\n\\t\\t\\r\\n\\r\\n\\t\\t \\r\\n\\r\\n\\t\\t\\r\\n\\r\\n歡迎您再度和我聯絡(為避免我們因在電話中而耽誤接聽您電話的時間，建議您先以 EMAIL 方式回覆給我，我將在收到您的來信後儘速與您連絡)。謝謝！\\r\\n\\r\\n\\r\\n\\r\\n黃聖峰 Huang Andy\\r\\n\\r\\n客戶關係五課\\r\\n\\r\\n服務專線：\\r\\n02-29126104 ext 6109\\r\\n\\r\\n02-77033104 ext 6109\\r\\n\\r\\n電子信箱：Andy.Huang@104.com.tw <mailto:Andy.Huang@104.com.tw> \\r\\n\\r\\n23144 新北市新店區寶中路119號9樓\\r\\n\\r\\nIf this email (and any attachments) contains information that is marked as confidential, then the named addressee (or recipient) shall not disclose, forward, or disseminate this email or any part of it to any unauthorized person. Any violation of this statement of the named addressee (or recipient) may cause a civil or criminal action taken by 104 Corporation.本郵件（含附件）之內容若標示有機密字義，收件人不得再將之揭露、轉寄或散佈予無權接收之任何他人。違反者，本公司將對之採取民刑事法律行動。\\r\\n\\r\\n\\t\\t \\r\\n\\r\\n\\t\\t \\r\\n\\r\\n\\t\\tFrom: Andy Huang[黃聖峯] <andy.huang@104.com.tw <mailto:andy.huang@104.com.tw> > \\r\\n\\t\\tSent: Thursday, June 30, 2022 1:18 PM\\r\\n\\t\\tTo: 台灣東方馬達-王柏文 <benwang@orientalmotor.com.tw <mailto:benwang@orientalmotor.com.tw> >\\r\\n\\t\\tCc: Yumi Yu[俞瓊瑤] <yumi.yu@104.com.tw <mailto:yumi.yu@104.com.tw> >; Sky Ku[辜士育] <sky.ku@104.com.tw <mailto:sky.ku@104.com.tw> >; ehrms_flow <ehrms_flow@104.com.tw <mailto:ehrms_flow@104.com.tw> >; Gracechen[陳思穎] <gracechen@104.com.tw <mailto:gracechen@104.com.tw> >; ehrms_fae <ehrms_fae@104.com.tw <mailto:ehrms_fae@104.com.tw> >; Penny Lin[林培宇] <penny.lin@104.com.tw <mailto:penny.lin@104.com.tw> >; Ryan Chou <chou@orientalmotor.com.tw <mailto:chou@orientalmotor.com.tw> >; (系統課)林曜暉 <zakirahuei@orientalmotor.com.tw <mailto:zakirahuei@orientalmotor.com.tw> >; Yu-chin Chen <bcsnujrhu@orientalmotor.com.tw <mailto:bcsnujrhu@orientalmotor.com.tw> >; Rachael Chen[陳韻如] <rachael.chen@104.com.tw <mailto:rachael.chen@104.com.tw> >; Rachael Chen[陳韻如] <rachael.chen@104.com.tw <mailto:rachael.chen@104.com.tw> >\\r\\n\\t\\tSubject: RE: =依賴= 離職證明無法順利列印\\r\\n\\r\\n\\t\\t \\r\\n\\r\\n\\t\\tHi 柏文,\\r\\n\\r\\n\\t\\t我剛剛試連連不上SERVER了，請再幫忙提供連線\\r\\n\\r\\n\\t\\t \\r\\n\\r\\n歡迎您再度和我聯絡(為避免我們因在電話中而耽誤接聽您電話的時間，建議您先以 EMAIL 方式回覆給我，我將在收到您的來信後儘速與您連絡)。謝謝！\\r\\n\\r\\n\\r\\n\\r\\n黃聖峰 Huang Andy\\r\\n\\r\\n客戶關係五課\\r\\n\\r\\n服務專線：\\r\\n02-29126104 ext 6109\\r\\n\\r\\n02-77033104 ext 6109\\r\\n\\r\\n電子信箱：Andy.Huang@104.com.tw <mailto:Andy.Huang@104.com.tw> \\r\\n\\r\\n23144 新北市新店區寶中路119號9樓\\r\\n\\r\\nIf this email (and any attachments) contains information that is marked as confidential, then the named addressee (or recipient) shall not disclose, forward, or disseminate this email or any part of it to any unauthorized person. Any violation of this statement of the named addressee (or recipient) may cause a civil or criminal action taken by 104 Corporation.本郵件（含附件）之內容若標示有機密字義，收件人不得再將之揭露、轉寄或散佈予無權接收之任何他人。違反者，本公司將對之採取民刑事法律行動。\\r\\n\\r\\n\\t\\t \\r\\n\\r\\n\\t\\t \\r\\n\\r\\n\\t\\tFrom: 台灣東方馬達-王柏文 <benwang@orientalmotor.com.tw <mailto:benwang@orientalmotor.com.tw> > \\r\\n\\t\\tSent: Thursday, June 30, 2022 11:46 AM\\r\\n\\t\\tTo: Andy Huang[黃聖峯] <andy.huang@104.com.tw <mailto:andy.huang@104.com.tw> >\\r\\n\\t\\tCc: Yumi Yu[俞瓊瑤] <yumi.yu@104.com.tw <mailto:yumi.yu@104.com.tw> >; Sky Ku[辜士育] <sky.ku@104.com.tw <mailto:sky.ku@104.com.tw> >; ehrms_flow <ehrms_flow@104.com.tw <mailto:ehrms_flow@104.com.tw> >; Gracechen[陳思穎] <gracechen@104.com.tw <mailto:gracechen@104.com.tw> >; ehrms_fae <ehrms_fae@104.com.tw <mailto:ehrms_fae@104.com.tw> >; Penny Lin[林培宇] <penny.lin@104.com.tw <mailto:penny.lin@104.com.tw> >; Ryan Chou <chou@orientalmotor.com.tw <mailto:chou@orientalmotor.com.tw> >; (系統課)林曜暉 <zakirahuei@orientalmotor.com.tw <mailto:zakirahuei@orientalmotor.com.tw> >; Yu-chin Chen <bcsnujrhu@orientalmotor.com.tw <mailto:bcsnujrhu@orientalmotor.com.tw> >\\r\\n\\t\\tSubject: Re: =依賴= 離職證明無法順利列印\\r\\n\\r\\n\\t\\t \\r\\n\\r\\n\\t\\tDear 黃先生\\r\\n\\r\\n\\t\\t您好\\r\\n\\r\\n\\t\\t \\r\\n\\r\\n\\t\\t不好意思，今日早上發生狀況，\\r\\n\\r\\n\\t\\t6/30打卡數據全員顯示曠職(意即沒有打卡資料)，\\r\\n\\r\\n\\t\\t請問於系統登入後您那邊有做什麼更正或調整嗎?\\r\\n\\r\\n\\t\\t \\r\\n\\r\\n\\t\\t因明日即進行考勤結算作業，請盡速協助一併確認與排除。\\r\\n\\r\\n\\t\\t \\r\\n\\r\\n\\t\\t謝謝。\\r\\n\\r\\n\\t\\t \\r\\n\\r\\n\\t\\t***********************************************************\\r\\n\\r\\n\\t\\t台灣東方馬達股份有限公司\\r\\n\\t\\t管理部人事總務課    王柏文\\r\\n\\r\\n\\t\\tTEL:02-8228-0707  #2108\\r\\n\\t\\tFAX:02-8228-0708\\r\\n\\r\\n\\t\\t客戶諮詢專線:0800-060-708\\r\\n\\r\\n\\t\\t企業形象官網：https://hr.orientalmotor.com.tw/\\r\\n\\r\\n\\t\\tMAIL:benwang@orientalmotor.com.tw <mailto:benwang@orientalmotor.com.tw> \\r\\n\\r\\n\\t\\t <https://www.orientalmotor.com.tw/image/logo.gif> \\r\\n\\r\\n\\t\\t************************************************************\\r\\n\\r\\n\\t\\t \\r\\n\\r\\n\\t\\t\\r\\n\\t\\t\\r\\n\\r\\n\\t\\tAndy Huang[黃聖峯] <andy.huang@104.com.tw <mailto:andy.huang@104.com.tw> > 於 2022年6月29日 週三 下午5:49寫道：\\r\\n\\r\\n\\t\\t\\tHi 柏文 您好：\\r\\n\\r\\n\\t\\t\\t \\r\\n\\r\\n\\t\\t\\t工程師還在追問題中，今天的連線已使用完畢。\\r\\n\\t\\t\\tYumi明天會再向您申請連線屆時再麻煩您協助提供連線。\\r\\n\\r\\n\\t\\t\\t \\r\\n\\r\\n歡迎您再度和我聯絡(為避免我們因在電話中而耽誤接聽您電話的時間，建議您先以 EMAIL 方式回覆給我，我將在收到您的來信後儘速與您連絡)。謝謝！\\r\\n\\r\\n\\r\\n\\r\\n黃聖峰 Huang Andy\\r\\n\\r\\n客戶關係五課\\r\\n\\r\\n服務專線：\\r\\n02-29126104 ext 6109\\r\\n\\r\\n02-77033104 ext 6109\\r\\n\\r\\n電子信箱：Andy.Huang@104.com.tw <mailto:Andy.Huang@104.com.tw> \\r\\n\\r\\n23144 新北市新店區寶中路119號9樓\\r\\n\\r\\nIf this email (and any attachments) contains information that is marked as confidential, then the named addressee (or recipient) shall not disclose, forward, or disseminate this email or any part of it to any unauthorized person. Any violation of this statement of the named addressee (or recipient) may cause a civil or criminal action taken by 104 Corporation.本郵件（含附件）之內容若標示有機密字義，收件人不得再將之揭露、轉寄或散佈予無權接收之任何他人。違反者，本公司將對之採取民刑事法律行動。\\r\\n\\r\\n\\t\\t\\t \\r\\n\\r\\n\\t\\t\\t \\r\\n\\r\\n\\t\\t\\tFrom: 台灣東方馬達-王柏文 <benwang@orientalmotor.com.tw <mailto:benwang@orientalmotor.com.tw> > \\r\\n\\t\\t\\tSent: Wednesday, June 29, 2022 3:23 PM\\r\\n\\t\\t\\tTo: Andy Huang[黃聖峯] <andy.huang@104.com.tw <mailto:andy.huang@104.com.tw> >\\r\\n\\t\\t\\tCc: Sky Ku[辜士育] <sky.ku@104.com.tw <mailto:sky.ku@104.com.tw> >; ehrms_flow <ehrms_flow@104.com.tw <mailto:ehrms_flow@104.com.tw> >; Gracechen[陳思穎] <gracechen@104.com.tw <mailto:gracechen@104.com.tw> >; ehrms_fae <ehrms_fae@104.com.tw <mailto:ehrms_fae@104.com.tw> >; Penny Lin[林培宇] <penny.lin@104.com.tw <mailto:penny.lin@104.com.tw> >; Yumi Yu[俞瓊瑤] <yumi.yu@104.com.tw <mailto:yumi.yu@104.com.tw> >\\r\\n\\t\\t\\tSubject: Re: =依賴= 離職證明無法順利列印\\r\\n\\r\\n\\t\\t\\t \\r\\n\\r\\n\\t\\t\\t4tvwd237\\r\\n\\t\\t\\t\\r\\n\\r\\n\\t\\t\\t \\r\\n\\r\\n\\t\\t\\t \\r\\n\\r\\n\\t\\t\\t***********************************************************\\r\\n\\r\\n\\t\\t\\t台灣東方馬達股份有限公司\\r\\n\\t\\t\\t管理部人事總務課    王柏文\\r\\n\\r\\n\\t\\t\\tTEL:02-8228-0707  #2108\\r\\n\\t\\t\\tFAX:02-8228-0708\\r\\n\\r\\n\\t\\t\\t客戶諮詢專線:0800-060-708\\r\\n\\r\\n\\t\\t\\t企業形象官網：https://hr.orientalmotor.com.tw/\\r\\n\\r\\n\\t\\t\\tMAIL:benwang@orientalmotor.com.tw <mailto:benwang@orientalmotor.com.tw> \\r\\n\\r\\n\\t\\t\\t <https://www.orientalmotor.com.tw/image/logo.gif> \\r\\n\\r\\n\\t\\t\\t************************************************************\\r\\n\\r\\n\\t\\t\\t \\r\\n\\r\\n <https://mailtrack.io/?utm_source=gmail&utm_medium=signature&utm_campaign=signaturevirality11&> \\r\\n\\r\\nSender notified by \\r\\nMailtrack <https://mailtrack.io?utm_source=gmail&utm_medium=signature&utm_campaign=signaturevirality11&>  \\r\\n\\r\\n22/06/29 下午03:22:46\\r\\n\\r\\n\\t\\r\\n\\r\\n\\t\\t\\t\\r\\n\\t\\t\\t\\r\\n\\r\\n\\t\\t\\t台灣東方馬達-王柏文 <benwang@orientalmotor.com.tw <mailto:benwang@orientalmotor.com.tw> > 於 2022年6月29日 週三 下午3:08寫道：\\r\\n\\r\\n\\t\\t\\t\\t2wp89gam\\r\\n\\t\\t\\t\\t\\r\\n\\r\\n\\t\\t\\t\\t \\r\\n\\r\\n\\t\\t\\t\\t \\r\\n\\r\\n\\t\\t\\t\\t***********************************************************\\r\\n\\r\\n\\t\\t\\t\\t台灣東方馬達股份有限公司\\r\\n\\t\\t\\t\\t管理部人事總務課    王柏文\\r\\n\\r\\n\\t\\t\\t\\tTEL:02-8228-0707  #2108\\r\\n\\t\\t\\t\\tFAX:02-8228-0708\\r\\n\\r\\n\\t\\t\\t\\t客戶諮詢專線:0800-060-708\\r\\n\\r\\n\\t\\t\\t\\t企業形象官網：https://hr.orientalmotor.com.tw/\\r\\n\\r\\n\\t\\t\\t\\tMAIL:benwang@orientalmotor.com.tw <mailto:benwang@orientalmotor.com.tw> \\r\\n\\r\\n\\t\\t\\t\\t <https://www.orientalmotor.com.tw/image/logo.gif> \\r\\n\\r\\n\\t\\t\\t\\t************************************************************\\r\\n\\r\\n\\t\\t\\t\\t \\r\\n\\r\\n <https://mailtrack.io/?utm_source=gmail&utm_medium=signature&utm_campaign=signaturevirality11&> \\r\\n\\r\\nSender notified by \\r\\nMailtrack <https://mailtrack.io?utm_source=gmail&utm_medium=signature&utm_campaign=signaturevirality11&>  \\r\\n\\r\\n22/06/29 下午03:08:15\\r\\n\\r\\n\\t\\r\\n\\r\\n\\t\\t\\t\\t \\r\\n\\r\\n\\t\\t\\t\\tAndy Huang[黃聖峯] <andy.huang@104.com.tw <mailto:andy.huang@104.com.tw> > 於 2022年6月29日 週三 下午2:40寫道：\\r\\n\\r\\n\\t\\t\\t\\t\\tHi 柏文，\\r\\n\\r\\n\\t\\t\\t\\t\\t不好意思，是連線的密碼再給我一次，昨天的我連不上了。\\r\\n\\r\\n\\t\\t\\t\\t\\t \\r\\n\\r\\n歡迎您再度和我聯絡(為避免我們因在電話中而耽誤接聽您電話的時間，建議您先以 EMAIL 方式回覆給我，我將在收到您的來信後儘速與您連絡)。謝謝！\\r\\n\\r\\n\\r\\n\\r\\n黃聖峰 Huang Andy\\r\\n\\r\\n客戶關係五課\\r\\n\\r\\n服務專線：\\r\\n02-29126104 ext 6109\\r\\n\\r\\n02-77033104 ext 6109\\r\\n\\r\\n電子信箱：Andy.Huang@104.com.tw <mailto:Andy.Huang@104.com.tw> \\r\\n\\r\\n23144 新北市新店區寶中路119號9樓\\r\\n\\r\\nIf this email (and any attachments) contains information that is marked as confidential, then the named addressee (or recipient) shall not disclose, forward, or disseminate this email or any part of it to any unauthorized person. Any violation of this statement of the named addressee (or recipient) may cause a civil or criminal action taken by 104 Corporation.本郵件（含附件）之內容若標示有機密字義，收件人不得再將之揭露、轉寄或散佈予無權接收之任何他人。違反者，本公司將對之採取民刑事法律行動。\\r\\n\\r\\n\\t\\t\\t\\t\\t \\r\\n\\r\\n\\t\\t\\t\\t\\t \\r\\n\\r\\n\\t\\t\\t\\t\\tFrom: 台灣東方馬達-王柏文 <benwang@orientalmotor.com.tw <mailto:benwang@orientalmotor.com.tw> > \\r\\n\\t\\t\\t\\t\\tSent: Wednesday, June 29, 2022 2:12 PM\\r\\n\\t\\t\\t\\t\\tTo: Andy Huang[黃聖峯] <andy.huang@104.com.tw <mailto:andy.huang@104.com.tw> >\\r\\n\\t\\t\\t\\t\\tCc: Sky Ku[辜士育] <sky.ku@104.com.tw <mailto:sky.ku@104.com.tw> >; ehrms_flow <ehrms_flow@104.com.tw <mailto:ehrms_flow@104.com.tw> >; Gracechen[陳思穎] <gracechen@104.com.tw <mailto:gracechen@104.com.tw> >; ehrms_fae <ehrms_fae@104.com.tw <mailto:ehrms_fae@104.com.tw> >; Penny Lin[林培宇] <penny.lin@104.com.tw <mailto:penny.lin@104.com.tw> >; Yumi Yu[俞瓊瑤] <yumi.yu@104.com.tw <mailto:yumi.yu@104.com.tw> >\\r\\n\\t\\t\\t\\t\\tSubject: Re: =依賴= 離職證明無法順利列印\\r\\n\\r\\n\\t\\t\\t\\t\\t \\r\\n\\r\\n\\t\\t\\t\\t\\tDear 黃先生\\r\\n\\r\\n\\t\\t\\t\\t\\t您好\\r\\n\\r\\n\\t\\t\\t\\t\\t \\r\\n\\r\\n\\t\\t\\t\\t\\t請問登入什麼呀?\\r\\n\\r\\n\\t\\t\\t\\t\\t \\r\\n\\r\\n\\t\\t\\t\\t\\t \\r\\n\\r\\n\\t\\t\\t\\t\\t***********************************************************\\r\\n\\r\\n\\t\\t\\t\\t\\t台灣東方馬達股份有限公司\\r\\n\\t\\t\\t\\t\\t管理部人事總務課    王柏文\\r\\n\\r\\n\\t\\t\\t\\t\\tTEL:02-8228-0707  #2108\\r\\n\\t\\t\\t\\t\\tFAX:02-8228-0708\\r\\n\\r\\n\\t\\t\\t\\t\\t客戶諮詢專線:0800-060-708\\r\\n\\r\\n\\t\\t\\t\\t\\t企業形象官網：https://hr.orientalmotor.com.tw/\\r\\n\\r\\n\\t\\t\\t\\t\\tMAIL:benwang@orientalmotor.com.tw <mailto:benwang@orientalmotor.com.tw> \\r\\n\\r\\n\\t\\t\\t\\t\\t <https://www.orientalmotor.com.tw/image/logo.gif> \\r\\n\\r\\n\\t\\t\\t\\t\\t************************************************************\\r\\n\\r\\n\\t\\t\\t\\t\\t \\r\\n\\r\\n <https://mailtrack.io/?utm_source=gmail&utm_medium=signature&utm_campaign=signaturevirality11&> \\r\\n\\r\\nSender notified by \\r\\nMailtrack <https://mailtrack.io?utm_source=gmail&utm_medium=signature&utm_campaign=signaturevirality11&>  \\r\\n\\r\\n22/06/29 下午02:11:24\\r\\n\\r\\n\\t\\r\\n\\r\\n\\t\\t\\t\\t\\t \\r\\n\\r\\n\\t\\t\\t\\t\\tAndy Huang[黃聖峯] <andy.huang@104.com.tw <mailto:andy.huang@104.com.tw> > 於 2022年6月29日 週三 下午2:08寫道：\\r\\n\\r\\n\\t\\t\\t\\t\\tHi 柏文 您好：\\r\\n\\r\\n\\t\\t\\t\\t\\t請再幫忙我們登入。\\r\\n\\r\\n\\t\\t\\t\\t\\t\\r\\n\\r\\n\\t\\t\\t\\t\\t \\r\\n\\r\\n歡迎您再度和我聯絡(為避免我們因在電話中而耽誤接聽您電話的時間，建議您先以 EMAIL 方式回覆給我，我將在收到您的來信後儘速與您連絡)。謝謝！\\r\\n\\r\\n\\r\\n\\r\\n黃聖峰 Huang Andy\\r\\n\\r\\n客戶關係五課\\r\\n\\r\\n服務專線：\\r\\n02-29126104 ext 6109\\r\\n\\r\\n02-77033104 ext 6109\\r\\n\\r\\n電子信箱：Andy.Huang@104.com.tw <mailto:Andy.Huang@104.com.tw> \\r\\n\\r\\n23144 新北市新店區寶中路119號9樓\\r\\n\\r\\nIf this email (and any attachments) contains information that is marked as confidential, then the named addressee (or recipient) shall not disclose, forward, or disseminate this email or any part of it to any unauthorized person. Any violation of this statement of the named addressee (or recipient) may cause a civil or criminal action taken by 104 Corporation.本郵件（含附件）之內容若標示有機密字義，收件人不得再將之揭露、轉寄或散佈予無權接收之任何他人。違反者，本公司將對之採取民刑事法律行動。\\r\\n\\r\\n\\t\\t\\t\\t\\t \\r\\n\\r\\n\\t\\t\\t\\t\\t \\r\\n\\r\\n\\t\\t\\t\\t\\tFrom: Andy Huang[黃聖峯] \\r\\n\\t\\t\\t\\t\\tSent: Tuesday, June 28, 2022 6:39 PM\\r\\n\\t\\t\\t\\t\\tTo: 台灣東方馬達-王柏文 <benwang@orientalmotor.com.tw <mailto:benwang@orientalmotor.com.tw> >\\r\\n\\t\\t\\t\\t\\tCc: Sky Ku[辜士育] <sky.ku@104.com.tw <mailto:sky.ku@104.com.tw> >; ehrms_flow <ehrms_flow@104.com.tw <mailto:ehrms_flow@104.com.tw> >; Gracechen[陳思穎] <gracechen@104.com.tw <mailto:gracechen@104.com.tw> >; ehrms_fae <ehrms_fae@104.com.tw <mailto:ehrms_fae@104.com.tw> >; Penny Lin[林培宇] <penny.lin@104.com.tw <mailto:penny.lin@104.com.tw> >\\r\\n\\t\\t\\t\\t\\tSubject: RE: =依賴= 離職證明無法順利列印\\r\\n\\r\\n\\t\\t\\t\\t\\t \\r\\n\\r\\n\\t\\t\\t\\t\\tHi 柏文，\\r\\n\\r\\n\\t\\t\\t\\t\\t您好，不好意思這部份我們還在進行當中。\\r\\n\\r\\n\\t\\t\\t\\t\\t明天會再接續處理。\\r\\n\\r\\n\\t\\t\\t\\t\\t \\r\\n\\r\\n歡迎您再度和我聯絡(為避免我們因在電話中而耽誤接聽您電話的時間，建議您先以 EMAIL 方式回覆給我，我將在收到您的來信後儘速與您連絡)。謝謝！\\r\\n\\r\\n\\r\\n\\r\\n黃聖峰 Huang Andy\\r\\n\\r\\n客戶關係五課\\r\\n\\r\\n服務專線：\\r\\n02-29126104 ext 6109\\r\\n\\r\\n02-77033104 ext 6109\\r\\n\\r\\n電子信箱：Andy.Huang@104.com.tw <mailto:Andy.Huang@104.com.tw> \\r\\n\\r\\n23144 新北市新店區寶中路119號9樓\\r\\n\\r\\nIf this email (and any attachments) contains information that is marked as confidential, then the named addressee (or recipient) shall not disclose, forward, or disseminate this email or any part of it to any unauthorized person. Any violation of this statement of the named addressee (or recipient) may cause a civil or criminal action taken by 104 Corporation.本郵件（含附件）之內容若標示有機密字義，收件人不得再將之揭露、轉寄或散佈予無權接收之任何他人。違反者，本公司將對之採取民刑事法律行動。\\r\\n\\r\\n\\t\\t\\t\\t\\t \\r\\n\\r\\n\\t\\t\\t\\t\\t \\r\\n\\r\\n\\t\\t\\t\\t\\tFrom: 台灣東方馬達-王柏文 <benwang@orientalmotor.com.tw <mailto:benwang@orientalmotor.com.tw> > \\r\\n\\t\\t\\t\\t\\tSent: Tuesday, June 28, 2022 1:52 PM\\r\\n\\t\\t\\t\\t\\tTo: Andy Huang[黃聖峯] <andy.huang@104.com.tw <mailto:andy.huang@104.com.tw> >\\r\\n\\t\\t\\t\\t\\tCc: Sky Ku[辜士育] <sky.ku@104.com.tw <mailto:sky.ku@104.com.tw> >; ehrms_flow <ehrms_flow@104.com.tw <mailto:ehrms_flow@104.com.tw> >; Gracechen[陳思穎] <gracechen@104.com.tw <mailto:gracechen@104.com.tw> >; ehrms_fae <ehrms_fae@104.com.tw <mailto:ehrms_fae@104.com.tw> >\\r\\n\\t\\t\\t\\t\\tSubject: Re: =依賴= 離職證明無法順利列印\\r\\n\\r\\n\\t\\t\\t\\t\\t \\r\\n\\r\\n\\t\\t\\t\\t\\tDear 黃先生\\r\\n\\r\\n\\t\\t\\t\\t\\t \\r\\n\\r\\n\\t\\t\\t\\t\\t連線密碼:2n4ar9bf\\r\\n\\r\\n\\t\\t\\t\\t\\t \\r\\n\\r\\n\\t\\t\\t\\t\\t \\r\\n\\r\\n\\t\\t\\t\\t\\t \\r\\n\\r\\n\\t\\t\\t\\t\\t***********************************************************\\r\\n\\r\\n\\t\\t\\t\\t\\t台灣東方馬達股份有限公司\\r\\n\\t\\t\\t\\t\\t管理部人事總務課    王柏文\\r\\n\\r\\n\\t\\t\\t\\t\\tTEL:02-8228-0707  #2108\\r\\n\\t\\t\\t\\t\\tFAX:02-8228-0708\\r\\n\\r\\n\\t\\t\\t\\t\\t客戶諮詢專線:0800-060-708\\r\\n\\r\\n\\t\\t\\t\\t\\t企業形象官網：https://hr.orientalmotor.com.tw/\\r\\n\\r\\n\\t\\t\\t\\t\\tMAIL:benwang@orientalmotor.com.tw <mailto:benwang@orientalmotor.com.tw> \\r\\n\\r\\n\\t\\t\\t\\t\\t <https://www.orientalmotor.com.tw/image/logo.gif> \\r\\n\\r\\n\\t\\t\\t\\t\\t************************************************************\\r\\n\\r\\n\\t\\t\\t\\t\\t \\r\\n\\r\\n <https://mailtrack.io/?utm_source=gmail&utm_medium=signature&utm_campaign=signaturevirality11&> \\r\\n\\r\\nSender notified by \\r\\nMailtrack <https://mailtrack.io?utm_source=gmail&utm_medium=signature&utm_campaign=signaturevirality11&>  \\r\\n\\r\\n22/06/28 下午01:52:08\\r\\n\\r\\n\\t\\r\\n\\r\\n\\t\\t\\t\\t\\t\\r\\n\\t\\t\\t\\t\\t\\r\\n\\r\\n\\t\\t\\t\\t\\tAndy Huang[黃聖峯] <andy.huang@104.com.tw <mailto:andy.huang@104.com.tw> > 於 2022年6月28日 週二 下午1:37寫道：\\r\\n\\r\\n\\t\\t\\t\\t\\tHi 柏文 您好：\\r\\n\\r\\n\\t\\t\\t\\t\\t煩請開SERVER連線後通知我。\\r\\n\\r\\n\\t\\t\\t\\t\\t \\r\\n\\r\\n歡迎您再度和我聯絡(為避免我們因在電話中而耽誤接聽您電話的時間，建議您先以 EMAIL 方式回覆給我，我將在收到您的來信後儘速與您連絡)。謝謝！\\r\\n\\r\\n\\r\\n\\r\\n黃聖峰 Huang Andy\\r\\n\\r\\n客戶關係五課\\r\\n\\r\\n服務專線：\\r\\n02-29126104 ext 6109\\r\\n\\r\\n02-77033104 ext 6109\\r\\n\\r\\n電子信箱：Andy.Huang@104.com.tw <mailto:Andy.Huang@104.com.tw> \\r\\n\\r\\n23144 新北市新店區寶中路119號9樓\\r\\n\\r\\nIf this email (and any attachments) contains information that is marked as confidential, then the named addressee (or recipient) shall not disclose, forward, or disseminate this email or any part of it to any unauthorized person. Any violation of this statement of the named addressee (or recipient) may cause a civil or criminal action taken by 104 Corporation.本郵件（含附件）之內容若標示有機密字義，收件人不得再將之揭露、轉寄或散佈予無權接收之任何他人。違反者，本公司將對之採取民刑事法律行動。\\r\\n\\r\\n\\t\\t\\t\\t\\t \\r\\n\\r\\n\\t\\t\\t\\t\\t \\r\\n\\r\\n\\t\\t\\t\\t\\tFrom: Gracechen[陳思穎] <gracechen@104.com.tw <mailto:gracechen@104.com.tw> > \\r\\n\\t\\t\\t\\t\\tSent: Tuesday, June 28, 2022 9:35 AM\\r\\n\\t\\t\\t\\t\\tTo: ehrms_fae <ehrms_fae@104.com.tw <mailto:ehrms_fae@104.com.tw> >\\r\\n\\t\\t\\t\\t\\tCc: 台灣東方馬達-王柏文 <benwang@orientalmotor.com.tw <mailto:benwang@orientalmotor.com.tw> >; Sky Ku[辜士育] <sky.ku@104.com.tw <mailto:sky.ku@104.com.tw> >; ehrms_flow <ehrms_flow@104.com.tw <mailto:ehrms_flow@104.com.tw> >\\r\\n\\t\\t\\t\\t\\tSubject: RE: =依賴= 離職證明無法順利列印\\r\\n\\r\\n\\t\\t\\t\\t\\t \\r\\n\\r\\n\\t\\t\\t\\t\\tHi FAE:\\r\\n\\r\\n\\t\\t\\t\\t\\t請您們協助以下問題\\r\\n\\r\\n\\t\\t\\t\\t\\t \\r\\n\\r\\n\\t\\t\\t\\t\\t謝謝!\\r\\n\\r\\n\\t\\t\\t\\t\\t \\r\\n\\r\\n\\t\\t\\t\\t\\t \\r\\n\\r\\n\\r\\n\\r\\n陳思穎 Grace Chen \\r\\n\\r\\n人資學院事業群\\u3000系統服務部\\u3000系統顧問師\\r\\n\\r\\n服 務 專 線： 02-29126104 ext 6101\\r\\n\\r\\n              02-77033104 ext 6101\\r\\n\\r\\n顧問群組代表號02-29126104 ext 6294\\r\\n\\r\\n電子信箱：gracechen@104.com.tw <mailto:gracechen@104.com.tw> \\r\\n\\r\\n23144 新北市新店區寶中路119號3樓\\r\\n\\r\\n--------------------------------------------------------------------------------------------------------------------------------------------------------------\\r\\n\\r\\nIf this email (and any attachments) contains information that is marked as confidential, then the named addressee (or recipient) shall not disclose, forward, or disseminate this email or any part of it to any unauthorized person. Any violation of this statement of the named addressee (or recipient) may cause a civil or criminal action taken by 104 Corporation.\\r\\n本郵件（含附件）之內容若標示有機密字義，收件人不得再將之揭露、轉寄或散佈予無權接收之任何他人。違反者，本公司將對之採取民刑事法律行動。\\r\\n\\r\\n\\t\\t\\t\\t\\t \\r\\n\\r\\n\\t\\t\\t\\t\\t \\r\\n\\r\\n\\t\\t\\t\\t\\tFrom: 台灣東方馬達-王柏文 <benwang@orientalmotor.com.tw <mailto:benwang@orientalmotor.com.tw> > \\r\\n\\t\\t\\t\\t\\tSent: Tuesday, June 28, 2022 9:28 AM\\r\\n\\t\\t\\t\\t\\tTo: Gracechen[陳思穎] <gracechen@104.com.tw <mailto:gracechen@104.com.tw> >; Sky Ku[辜士育] <sky.ku@104.com.tw <mailto:sky.ku@104.com.tw> >; ehrms_flow <ehrms_flow@104.com.tw <mailto:ehrms_flow@104.com.tw> >\\r\\n\\t\\t\\t\\t\\tSubject: =依賴= 離職證明無法順利列印\\r\\n\\r\\n\\t\\t\\t\\t\\t \\r\\n\\r\\n\\t\\t\\t\\t\\tDear grace\\r\\n\\r\\n\\t\\t\\t\\t\\t \\r\\n\\r\\n\\t\\t\\t\\t\\t如標題，請參考下圖。\\r\\n\\r\\n\\t\\t\\t\\t\\t\\r\\n\\r\\n\\t\\t\\t\\t\\t以上，再麻煩協助確認，\\r\\n\\r\\n\\t\\t\\t\\t\\t謝謝。\\r\\n\\r\\n\\t\\t\\t\\t\\t \\r\\n\\r\\n\\t\\t\\t\\t\\t***********************************************************\\r\\n\\r\\n\\t\\t\\t\\t\\t台灣東方馬達股份有限公司\\r\\n\\t\\t\\t\\t\\t管理部人事總務課    王柏文\\r\\n\\r\\n\\t\\t\\t\\t\\tTEL:02-8228-0707  #2108\\r\\n\\t\\t\\t\\t\\tFAX:02-8228-0708\\r\\n\\r\\n\\t\\t\\t\\t\\t客戶諮詢專線:0800-060-708\\r\\n\\r\\n\\t\\t\\t\\t\\t企業形象官網：https://hr.orientalmotor.com.tw/\\r\\n\\r\\n\\t\\t\\t\\t\\tMAIL:benwang@orientalmotor.com.tw <mailto:benwang@orientalmotor.com.tw> \\r\\n\\r\\n\\t\\t\\t\\t\\t <https://www.orientalmotor.com.tw/image/logo.gif> \\r\\n\\r\\n\\t\\t\\t\\t\\t************************************************************\\r\\n\\r\\n\\t\\t\\t\\t\\t \\r\\n\\r\\n <https://mailtrack.io/?utm_source=gmail&utm_medium=signature&utm_campaign=signaturevirality11&> \\r\\n\\r\\nSender notified by \\r\\nMailtrack <https://mailtrack.io?utm_source=gmail&utm_medium=signature&utm_campaign=signaturevirality11&>  \\r\\n\\r\\n22/06/28 上午09:26:13\\r\\n\\r\\n\\t\\r\\n\\r\\n\\t\\t\\t\\t\\t\\r\\n\\r\\n\\t\\t \\r\\n\\r\\n <https://mailtrack.io/?utm_source=gmail&utm_medium=signature&utm_campaign=signaturevirality11&> \\r\\n\\r\\nSender notified by \\r\\nMailtrack <https://mailtrack.io?utm_source=gmail&utm_medium=signature&utm_campaign=signaturevirality11&>  \\r\\n\\r\\n22/06/30 上午11:45:40\\r\\n\\r\\n\\t\\r\\n\\r\\n\\t\\t \\r\\n\\r\\n\\r\\n\\r\\n\\r\\n \\r\\n\\r\\n-- \\r\\n\\r\\n如有任何問題，歡迎請來電洽詢~ 感恩!\\r\\n\\r\\n \\r\\n\\r\\n敬祝\\r\\n\\r\\n              商祺 \\r\\n\\r\\n \\r\\n\\r\\n台灣東方馬達股份有限公司\\r\\n\\r\\n <https://ci3.googleusercontent.com/mail-sig/AIorK4xaklmw8SXpEWdOmvCKYS_2_I8a7L7hzyiww4l1SFJ6uYebZ7ZFJjfe28wcTrV2wzXFKLIPvCA> \\r\\n\\r\\n系統課 林曜暉\\r\\n\\r\\nTel: (02)8228-0707#2502\\r\\n\\r\\nE-mail: zakirahuei@orientalmotor.com.tw <mailto:zakirahuei@orientalmotor.com.tw> \\r\\n\\r\\n'\"\"\""
   ]
  },
  {
   "cell_type": "code",
   "execution_count": 3,
   "metadata": {
    "id": "RE6Yugtj8pdz"
   },
   "outputs": [],
   "source": [
    "#print(a)"
   ]
  },
  {
   "cell_type": "code",
   "execution_count": null,
   "metadata": {
    "id": "Ft6ZM7wKPhHC"
   },
   "outputs": [],
   "source": []
  },
  {
   "cell_type": "code",
   "execution_count": 4,
   "metadata": {
    "id": "jS8Mj4hV83zM"
   },
   "outputs": [],
   "source": [
    "import pandas as pd \n",
    "import re\n",
    "import numpy as np"
   ]
  },
  {
   "cell_type": "code",
   "execution_count": 5,
   "metadata": {
    "id": "L6tlaeIC9ATw"
   },
   "outputs": [],
   "source": [
    "word=a"
   ]
  },
  {
   "cell_type": "code",
   "execution_count": null,
   "metadata": {
    "id": "ntF58w6q8qf4"
   },
   "outputs": [],
   "source": []
  },
  {
   "cell_type": "code",
   "execution_count": 6,
   "metadata": {
    "id": "9IHIrTEP9CKv"
   },
   "outputs": [],
   "source": [
    "\n",
    "pattern = \"([Ff]rom):.*?\\\\n\"\n",
    "#for remove some pattern of fixed format\n",
    "word = re.sub( \"([Ff]rom):.*?\\\\n\",\"\",word)\n",
    "word= re.sub( \"([Ss]ent):.*?\\\\n\",\"\",word)\n",
    "word= re.sub( \"([Tt]o):.*?\\\\n\",\"\",word)\n",
    "word= re.sub( \"([Cc]c):.*?\\\\n\",\"\",word)\n",
    "word= re.sub( \"(Subject):.*?\\\\n\",\"\",word)"
   ]
  },
  {
   "cell_type": "code",
   "execution_count": 7,
   "metadata": {
    "id": "_1M12zJKoF9M"
   },
   "outputs": [],
   "source": [
    "#去除電話號碼\n",
    "word = word.replace('[0-9][0-9]-[0-9].*?\\\\n','')"
   ]
  },
  {
   "cell_type": "code",
   "execution_count": 8,
   "metadata": {
    "id": "5LEb2EyhoKES"
   },
   "outputs": [],
   "source": [
    "#去除簽名檔資料"
   ]
  },
  {
   "cell_type": "code",
   "execution_count": 9,
   "metadata": {
    "id": "3ra_WAVckWBl"
   },
   "outputs": [],
   "source": [
    "#word =word.replace('\\n','')\n",
    "word = word.replace('\\t','')\n",
    "word = word.replace('\\r','')"
   ]
  },
  {
   "cell_type": "code",
   "execution_count": null,
   "metadata": {
    "id": "DqgmnMIWoBrw"
   },
   "outputs": [],
   "source": []
  },
  {
   "cell_type": "code",
   "execution_count": 10,
   "metadata": {
    "colab": {
     "base_uri": "https://localhost:8080/",
     "height": 1000
    },
    "id": "ST2YDPWqkPSp",
    "outputId": "00a20500-a102-4c30-d5d4-ee77f642f3a9"
   },
   "outputs": [
    {
     "data": {
      "text/plain": [
       "\"'Hi 柏文\\n\\n \\n\\n        此問題仍在查詢中，請問下周一方便與您約定時間重開機嘛?\\n\\n        謝謝\\n\\n \\n\\n\\n \\n\\nHi, Yumi:\\n\\n \\n\\nremote info as below:\\n\\n \\n\\nt68jfrwr\\n\\n \\n\\nYumi Yu[俞瓊瑤] <yumi.yu@104.com.tw <mail\\nHi 柏文 您好：\\n\\n \\n\\n        再麻煩協助提供今日 Ehrms Server 連線的密碼，謝謝\\n\\n \\n\\n\\n \\n\\nHi 柏文 您好：\\n\\n \\n\\n收到，離職證明無法順利列印的部份，我們還在進行當中，明天再開連線給Yumi。\\n\\n \\n\\n歡迎您再度和我聯絡(為避免我們因在電話中而耽誤接聽您電話的時間，建議您先以 EMAIL 方式回覆給我，我將在收到您的來信後儘速與您連絡)。謝謝！\\n\\n\\n\\n黃聖峰 Huang Andy\\n\\n客戶關係五課\\n\\n服務專線：\\n02-29126104 ext 6109\\n\\n02-77033104 ext 6109\\n\\n電子信箱：Andy.Huang@104.com.tw <mail\\n23144 新北市新店區寶中路119號9樓\\n\\nIf this email (and any attachments) contains information that is marked as confidential, then the named addressee (or recipient) shall not disclose, forward, or disseminate this email or any part of it to any unauthorized person. Any violation of this statement of the named addressee (or recipient) may cause a civil or criminal action taken by 104 Corporation.本郵件（含附件）之內容若標示有機密字義，收件人不得再將之揭露、轉寄或散佈予無權接收之任何他人。違反者，本公司將對之採取民刑事法律行動。\\n\\n \\n\\n \\n\\n\\n \\n\\nDear黃先生\\n\\n \\n\\n此部分經上午我司系統課進行資料重新抓取後，\\n\\n已恢復正常了。\\n\\n \\n\\n以上，感謝。\\n\\n \\n\\n***********************************************************\\n\\n台灣東方馬達股份有限公司\\n管理部人事總務課    王柏文\\n\\nTEL:02-8228-0707  #2108\\nFAX:02-8228-0708\\n\\n客戶諮詢專線:0800-060-708\\n\\n企業形象官網：https://hr.orientalmotor.com.tw/\\n\\nMAIL:benwang@orientalmotor.com.tw <mail\\n <https://www.orientalmotor.com.tw/image/logo.gif> \\n\\n************************************************************\\n\\n \\n\\n <https://mailtrack.io/?utm_source=gmail&utm_medium=signature&utm_campaign=signaturevirality11&> \\n\\nSender notified by \\nMailtrack <https://mailtrack.io?utm_source=gmail&utm_medium=signature&utm_campaign=signaturevirality11&>  \\n\\n22/06/30 下午05:12:04\\n\\n\\n\\n\\n <https://mailtrack.io/trace/mail/f3c9cf6d45d0b8bb505cb9d53e46412dcba49568.png?u=6642968> \\n\\nAndy Huang[黃聖峯] <andy.huang@104.com.tw <mail\\nHi 柏文，\\n\\n不好意思，剛剛致電給您。\\n檢查後，看資料在上午9:35 及 11:35 各做一次。\\n9:35的資料只有兩筆，11:35的比較多，想和您再確認一下曠職的部份。\\n\\n麻煩您再回信或回電給我。\\n\\n\\n\\n\\n \\n\\n\\n\\n歡迎您再度和我聯絡(為避免我們因在電話中而耽誤接聽您電話的時間，建議您先以 EMAIL 方式回覆給我，我將在收到您的來信後儘速與您連絡)。謝謝！\\n\\n\\n\\n黃聖峰 Huang Andy\\n\\n客戶關係五課\\n\\n服務專線：\\n02-29126104 ext 6109\\n\\n02-77033104 ext 6109\\n\\n電子信箱：Andy.Huang@104.com.tw <mail\\n23144 新北市新店區寶中路119號9樓\\n\\nIf this email (and any attachments) contains information that is marked as confidential, then the named addressee (or recipient) shall not disclose, forward, or disseminate this email or any part of it to any unauthorized person. Any violation of this statement of the named addressee (or recipient) may cause a civil or criminal action taken by 104 Corporation.本郵件（含附件）之內容若標示有機密字義，收件人不得再將之揭露、轉寄或散佈予無權接收之任何他人。違反者，本公司將對之採取民刑事法律行動。\\n\\n \\n\\n \\n\\n\\n \\n\\nHi 柏文,\\n\\n我剛剛試連連不上SERVER了，請再幫忙提供連線\\n\\n \\n\\n歡迎您再度和我聯絡(為避免我們因在電話中而耽誤接聽您電話的時間，建議您先以 EMAIL 方式回覆給我，我將在收到您的來信後儘速與您連絡)。謝謝！\\n\\n\\n\\n黃聖峰 Huang Andy\\n\\n客戶關係五課\\n\\n服務專線：\\n02-29126104 ext 6109\\n\\n02-77033104 ext 6109\\n\\n電子信箱：Andy.Huang@104.com.tw <mail\\n23144 新北市新店區寶中路119號9樓\\n\\nIf this email (and any attachments) contains information that is marked as confidential, then the named addressee (or recipient) shall not disclose, forward, or disseminate this email or any part of it to any unauthorized person. Any violation of this statement of the named addressee (or recipient) may cause a civil or criminal action taken by 104 Corporation.本郵件（含附件）之內容若標示有機密字義，收件人不得再將之揭露、轉寄或散佈予無權接收之任何他人。違反者，本公司將對之採取民刑事法律行動。\\n\\n \\n\\n \\n\\n\\n \\n\\nDear 黃先生\\n\\n您好\\n\\n \\n\\n不好意思，今日早上發生狀況，\\n\\n6/30打卡數據全員顯示曠職(意即沒有打卡資料)，\\n\\n請問於系統登入後您那邊有做什麼更正或調整嗎?\\n\\n \\n\\n因明日即進行考勤結算作業，請盡速協助一併確認與排除。\\n\\n \\n\\n謝謝。\\n\\n \\n\\n***********************************************************\\n\\n台灣東方馬達股份有限公司\\n管理部人事總務課    王柏文\\n\\nTEL:02-8228-0707  #2108\\nFAX:02-8228-0708\\n\\n客戶諮詢專線:0800-060-708\\n\\n企業形象官網：https://hr.orientalmotor.com.tw/\\n\\nMAIL:benwang@orientalmotor.com.tw <mail\\n <https://www.orientalmotor.com.tw/image/logo.gif> \\n\\n************************************************************\\n\\n \\n\\n\\n\\n\\nAndy Huang[黃聖峯] <andy.huang@104.com.tw <mail\\nHi 柏文 您好：\\n\\n \\n\\n工程師還在追問題中，今天的連線已使用完畢。\\nYumi明天會再向您申請連線屆時再麻煩您協助提供連線。\\n\\n \\n\\n歡迎您再度和我聯絡(為避免我們因在電話中而耽誤接聽您電話的時間，建議您先以 EMAIL 方式回覆給我，我將在收到您的來信後儘速與您連絡)。謝謝！\\n\\n\\n\\n黃聖峰 Huang Andy\\n\\n客戶關係五課\\n\\n服務專線：\\n02-29126104 ext 6109\\n\\n02-77033104 ext 6109\\n\\n電子信箱：Andy.Huang@104.com.tw <mail\\n23144 新北市新店區寶中路119號9樓\\n\\nIf this email (and any attachments) contains information that is marked as confidential, then the named addressee (or recipient) shall not disclose, forward, or disseminate this email or any part of it to any unauthorized person. Any violation of this statement of the named addressee (or recipient) may cause a civil or criminal action taken by 104 Corporation.本郵件（含附件）之內容若標示有機密字義，收件人不得再將之揭露、轉寄或散佈予無權接收之任何他人。違反者，本公司將對之採取民刑事法律行動。\\n\\n \\n\\n \\n\\n\\n \\n\\n4tvwd237\\n\\n\\n \\n\\n \\n\\n***********************************************************\\n\\n台灣東方馬達股份有限公司\\n管理部人事總務課    王柏文\\n\\nTEL:02-8228-0707  #2108\\nFAX:02-8228-0708\\n\\n客戶諮詢專線:0800-060-708\\n\\n企業形象官網：https://hr.orientalmotor.com.tw/\\n\\nMAIL:benwang@orientalmotor.com.tw <mail\\n <https://www.orientalmotor.com.tw/image/logo.gif> \\n\\n************************************************************\\n\\n \\n\\n <https://mailtrack.io/?utm_source=gmail&utm_medium=signature&utm_campaign=signaturevirality11&> \\n\\nSender notified by \\nMailtrack <https://mailtrack.io?utm_source=gmail&utm_medium=signature&utm_campaign=signaturevirality11&>  \\n\\n22/06/29 下午03:22:46\\n\\n\\n\\n\\n\\n\\n台灣東方馬達-王柏文 <benwang@orientalmotor.com.tw <mail\\n2wp89gam\\n\\n\\n \\n\\n \\n\\n***********************************************************\\n\\n台灣東方馬達股份有限公司\\n管理部人事總務課    王柏文\\n\\nTEL:02-8228-0707  #2108\\nFAX:02-8228-0708\\n\\n客戶諮詢專線:0800-060-708\\n\\n企業形象官網：https://hr.orientalmotor.com.tw/\\n\\nMAIL:benwang@orientalmotor.com.tw <mail\\n <https://www.orientalmotor.com.tw/image/logo.gif> \\n\\n************************************************************\\n\\n \\n\\n <https://mailtrack.io/?utm_source=gmail&utm_medium=signature&utm_campaign=signaturevirality11&> \\n\\nSender notified by \\nMailtrack <https://mailtrack.io?utm_source=gmail&utm_medium=signature&utm_campaign=signaturevirality11&>  \\n\\n22/06/29 下午03:08:15\\n\\n\\n\\n \\n\\nAndy Huang[黃聖峯] <andy.huang@104.com.tw <mail\\nHi 柏文，\\n\\n不好意思，是連線的密碼再給我一次，昨天的我連不上了。\\n\\n \\n\\n歡迎您再度和我聯絡(為避免我們因在電話中而耽誤接聽您電話的時間，建議您先以 EMAIL 方式回覆給我，我將在收到您的來信後儘速與您連絡)。謝謝！\\n\\n\\n\\n黃聖峰 Huang Andy\\n\\n客戶關係五課\\n\\n服務專線：\\n02-29126104 ext 6109\\n\\n02-77033104 ext 6109\\n\\n電子信箱：Andy.Huang@104.com.tw <mail\\n23144 新北市新店區寶中路119號9樓\\n\\nIf this email (and any attachments) contains information that is marked as confidential, then the named addressee (or recipient) shall not disclose, forward, or disseminate this email or any part of it to any unauthorized person. Any violation of this statement of the named addressee (or recipient) may cause a civil or criminal action taken by 104 Corporation.本郵件（含附件）之內容若標示有機密字義，收件人不得再將之揭露、轉寄或散佈予無權接收之任何他人。違反者，本公司將對之採取民刑事法律行動。\\n\\n \\n\\n \\n\\n\\n \\n\\nDear 黃先生\\n\\n您好\\n\\n \\n\\n請問登入什麼呀?\\n\\n \\n\\n \\n\\n***********************************************************\\n\\n台灣東方馬達股份有限公司\\n管理部人事總務課    王柏文\\n\\nTEL:02-8228-0707  #2108\\nFAX:02-8228-0708\\n\\n客戶諮詢專線:0800-060-708\\n\\n企業形象官網：https://hr.orientalmotor.com.tw/\\n\\nMAIL:benwang@orientalmotor.com.tw <mail\\n <https://www.orientalmotor.com.tw/image/logo.gif> \\n\\n************************************************************\\n\\n \\n\\n <https://mailtrack.io/?utm_source=gmail&utm_medium=signature&utm_campaign=signaturevirality11&> \\n\\nSender notified by \\nMailtrack <https://mailtrack.io?utm_source=gmail&utm_medium=signature&utm_campaign=signaturevirality11&>  \\n\\n22/06/29 下午02:11:24\\n\\n\\n\\n \\n\\nAndy Huang[黃聖峯] <andy.huang@104.com.tw <mail\\nHi 柏文 您好：\\n\\n請再幫忙我們登入。\\n\\n\\n\\n \\n\\n歡迎您再度和我聯絡(為避免我們因在電話中而耽誤接聽您電話的時間，建議您先以 EMAIL 方式回覆給我，我將在收到您的來信後儘速與您連絡)。謝謝！\\n\\n\\n\\n黃聖峰 Huang Andy\\n\\n客戶關係五課\\n\\n服務專線：\\n02-29126104 ext 6109\\n\\n02-77033104 ext 6109\\n\\n電子信箱：Andy.Huang@104.com.tw <mail\\n23144 新北市新店區寶中路119號9樓\\n\\nIf this email (and any attachments) contains information that is marked as confidential, then the named addressee (or recipient) shall not disclose, forward, or disseminate this email or any part of it to any unauthorized person. Any violation of this statement of the named addressee (or recipient) may cause a civil or criminal action taken by 104 Corporation.本郵件（含附件）之內容若標示有機密字義，收件人不得再將之揭露、轉寄或散佈予無權接收之任何他人。違反者，本公司將對之採取民刑事法律行動。\\n\\n \\n\\n \\n\\n\\n \\n\\nHi 柏文，\\n\\n您好，不好意思這部份我們還在進行當中。\\n\\n明天會再接續處理。\\n\\n \\n\\n歡迎您再度和我聯絡(為避免我們因在電話中而耽誤接聽您電話的時間，建議您先以 EMAIL 方式回覆給我，我將在收到您的來信後儘速與您連絡)。謝謝！\\n\\n\\n\\n黃聖峰 Huang Andy\\n\\n客戶關係五課\\n\\n服務專線：\\n02-29126104 ext 6109\\n\\n02-77033104 ext 6109\\n\\n電子信箱：Andy.Huang@104.com.tw <mail\\n23144 新北市新店區寶中路119號9樓\\n\\nIf this email (and any attachments) contains information that is marked as confidential, then the named addressee (or recipient) shall not disclose, forward, or disseminate this email or any part of it to any unauthorized person. Any violation of this statement of the named addressee (or recipient) may cause a civil or criminal action taken by 104 Corporation.本郵件（含附件）之內容若標示有機密字義，收件人不得再將之揭露、轉寄或散佈予無權接收之任何他人。違反者，本公司將對之採取民刑事法律行動。\\n\\n \\n\\n \\n\\n\\n \\n\\nDear 黃先生\\n\\n \\n\\n連線密碼:2n4ar9bf\\n\\n \\n\\n \\n\\n \\n\\n***********************************************************\\n\\n台灣東方馬達股份有限公司\\n管理部人事總務課    王柏文\\n\\nTEL:02-8228-0707  #2108\\nFAX:02-8228-0708\\n\\n客戶諮詢專線:0800-060-708\\n\\n企業形象官網：https://hr.orientalmotor.com.tw/\\n\\nMAIL:benwang@orientalmotor.com.tw <mail\\n <https://www.orientalmotor.com.tw/image/logo.gif> \\n\\n************************************************************\\n\\n \\n\\n <https://mailtrack.io/?utm_source=gmail&utm_medium=signature&utm_campaign=signaturevirality11&> \\n\\nSender notified by \\nMailtrack <https://mailtrack.io?utm_source=gmail&utm_medium=signature&utm_campaign=signaturevirality11&>  \\n\\n22/06/28 下午01:52:08\\n\\n\\n\\n\\n\\n\\nAndy Huang[黃聖峯] <andy.huang@104.com.tw <mail\\nHi 柏文 您好：\\n\\n煩請開SERVER連線後通知我。\\n\\n \\n\\n歡迎您再度和我聯絡(為避免我們因在電話中而耽誤接聽您電話的時間，建議您先以 EMAIL 方式回覆給我，我將在收到您的來信後儘速與您連絡)。謝謝！\\n\\n\\n\\n黃聖峰 Huang Andy\\n\\n客戶關係五課\\n\\n服務專線：\\n02-29126104 ext 6109\\n\\n02-77033104 ext 6109\\n\\n電子信箱：Andy.Huang@104.com.tw <mail\\n23144 新北市新店區寶中路119號9樓\\n\\nIf this email (and any attachments) contains information that is marked as confidential, then the named addressee (or recipient) shall not disclose, forward, or disseminate this email or any part of it to any unauthorized person. Any violation of this statement of the named addressee (or recipient) may cause a civil or criminal action taken by 104 Corporation.本郵件（含附件）之內容若標示有機密字義，收件人不得再將之揭露、轉寄或散佈予無權接收之任何他人。違反者，本公司將對之採取民刑事法律行動。\\n\\n \\n\\n \\n\\n\\n \\n\\nHi FAE:\\n\\n請您們協助以下問題\\n\\n \\n\\n謝謝!\\n\\n \\n\\n \\n\\n\\n\\n陳思穎 Grace Chen \\n\\n人資學院事業群\\u3000系統服務部\\u3000系統顧問師\\n\\n服 務 專 線： 02-29126104 ext 6101\\n\\n              02-77033104 ext 6101\\n\\n顧問群組代表號02-29126104 ext 6294\\n\\n電子信箱：gracechen@104.com.tw <mail\\n23144 新北市新店區寶中路119號3樓\\n\\n--------------------------------------------------------------------------------------------------------------------------------------------------------------\\n\\nIf this email (and any attachments) contains information that is marked as confidential, then the named addressee (or recipient) shall not disclose, forward, or disseminate this email or any part of it to any unauthorized person. Any violation of this statement of the named addressee (or recipient) may cause a civil or criminal action taken by 104 Corporation.\\n本郵件（含附件）之內容若標示有機密字義，收件人不得再將之揭露、轉寄或散佈予無權接收之任何他人。違反者，本公司將對之採取民刑事法律行動。\\n\\n \\n\\n \\n\\n\\n \\n\\nDear grace\\n\\n \\n\\n如標題，請參考下圖。\\n\\n\\n\\n以上，再麻煩協助確認，\\n\\n謝謝。\\n\\n \\n\\n***********************************************************\\n\\n台灣東方馬達股份有限公司\\n管理部人事總務課    王柏文\\n\\nTEL:02-8228-0707  #2108\\nFAX:02-8228-0708\\n\\n客戶諮詢專線:0800-060-708\\n\\n企業形象官網：https://hr.orientalmotor.com.tw/\\n\\nMAIL:benwang@orientalmotor.com.tw <mail\\n <https://www.orientalmotor.com.tw/image/logo.gif> \\n\\n************************************************************\\n\\n \\n\\n <https://mailtrack.io/?utm_source=gmail&utm_medium=signature&utm_campaign=signaturevirality11&> \\n\\nSender notified by \\nMailtrack <https://mailtrack.io?utm_source=gmail&utm_medium=signature&utm_campaign=signaturevirality11&>  \\n\\n22/06/28 上午09:26:13\\n\\n\\n\\n\\n\\n \\n\\n <https://mailtrack.io/?utm_source=gmail&utm_medium=signature&utm_campaign=signaturevirality11&> \\n\\nSender notified by \\nMailtrack <https://mailtrack.io?utm_source=gmail&utm_medium=signature&utm_campaign=signaturevirality11&>  \\n\\n22/06/30 上午11:45:40\\n\\n\\n\\n \\n\\n\\n\\n\\n \\n\\n-- \\n\\n如有任何問題，歡迎請來電洽詢~ 感恩!\\n\\n \\n\\n敬祝\\n\\n              商祺 \\n\\n \\n\\n台灣東方馬達股份有限公司\\n\\n <https://ci3.googleusercontent.com/mail-sig/AIorK4xaklmw8SXpEWdOmvCKYS_2_I8a7L7hzyiww4l1SFJ6uYebZ7ZFJjfe28wcTrV2wzXFKLIPvCA> \\n\\n系統課 林曜暉\\n\\nTel: (02)8228-0707#2502\\n\\nE-mail: zakirahuei@orientalmotor.com.tw <mail\\n'\""
      ]
     },
     "execution_count": 10,
     "metadata": {},
     "output_type": "execute_result"
    }
   ],
   "source": [
    "word "
   ]
  },
  {
   "cell_type": "code",
   "execution_count": 17,
   "metadata": {
    "colab": {
     "base_uri": "https://localhost:8080/",
     "height": 167
    },
    "id": "Ip29eXWWkQyO",
    "outputId": "ddbd1e19-d075-44f3-9b3a-41e7f34e5c83"
   },
   "outputs": [],
   "source": []
  },
  {
   "cell_type": "code",
   "execution_count": null,
   "metadata": {
    "id": "ApTRYa6ekdQs"
   },
   "outputs": [],
   "source": []
  },
  {
   "cell_type": "code",
   "execution_count": 13,
   "metadata": {
    "id": "r4C3UGfrmASC"
   },
   "outputs": [
    {
     "ename": "NameError",
     "evalue": "name 'final' is not defined",
     "output_type": "error",
     "traceback": [
      "\u001b[0;31m---------------------------------------------------------------------------\u001b[0m",
      "\u001b[0;31mNameError\u001b[0m                                 Traceback (most recent call last)",
      "Input \u001b[0;32mIn [13]\u001b[0m, in \u001b[0;36m<cell line: 1>\u001b[0;34m()\u001b[0m\n\u001b[0;32m----> 1\u001b[0m final\u001b[38;5;241m=\u001b[39m\u001b[43mfinal\u001b[49m\u001b[38;5;241m.\u001b[39mreplace(\u001b[38;5;124m'\u001b[39m\u001b[38;5;130;01m\\n\u001b[39;00m\u001b[38;5;124m'\u001b[39m,\u001b[38;5;124m\"\u001b[39m\u001b[38;5;124m\"\u001b[39m)\n",
      "\u001b[0;31mNameError\u001b[0m: name 'final' is not defined"
     ]
    }
   ],
   "source": [
    "final=final.replace('\\n',\"\")"
   ]
  },
  {
   "cell_type": "code",
   "execution_count": 14,
   "metadata": {
    "colab": {
     "base_uri": "https://localhost:8080/",
     "height": 157
    },
    "id": "si7MZPbZmBUy",
    "outputId": "f5d54a7e-2263-4138-d805-88821dc2709d"
   },
   "outputs": [
    {
     "ename": "NameError",
     "evalue": "name 'final' is not defined",
     "output_type": "error",
     "traceback": [
      "\u001b[0;31m---------------------------------------------------------------------------\u001b[0m",
      "\u001b[0;31mNameError\u001b[0m                                 Traceback (most recent call last)",
      "Input \u001b[0;32mIn [14]\u001b[0m, in \u001b[0;36m<cell line: 3>\u001b[0;34m()\u001b[0m\n\u001b[1;32m      1\u001b[0m \u001b[38;5;66;03m#希望最後輸出的格式\u001b[39;00m\n\u001b[0;32m----> 3\u001b[0m \u001b[43mfinal\u001b[49m\n",
      "\u001b[0;31mNameError\u001b[0m: name 'final' is not defined"
     ]
    }
   ],
   "source": [
    "\n"
   ]
  },
  {
   "cell_type": "code",
   "execution_count": 15,
   "metadata": {
    "colab": {
     "base_uri": "https://localhost:8080/"
    },
    "id": "esJi_xKTmLPe",
    "outputId": "412c0ff5-6edc-49c8-dc21-8554a618f637"
   },
   "outputs": [
    {
     "ename": "NameError",
     "evalue": "name 'final' is not defined",
     "output_type": "error",
     "traceback": [
      "\u001b[0;31m---------------------------------------------------------------------------\u001b[0m",
      "\u001b[0;31mNameError\u001b[0m                                 Traceback (most recent call last)",
      "Input \u001b[0;32mIn [15]\u001b[0m, in \u001b[0;36m<cell line: 1>\u001b[0;34m()\u001b[0m\n\u001b[0;32m----> 1\u001b[0m \u001b[38;5;28mprint\u001b[39m(\u001b[43mfinal\u001b[49m)\n",
      "\u001b[0;31mNameError\u001b[0m: name 'final' is not defined"
     ]
    }
   ],
   "source": [
    "pip install coll"
   ]
  },
  {
   "cell_type": "code",
   "execution_count": 18,
   "metadata": {
    "id": "C_DhJU9LmRSp"
   },
   "outputs": [
    {
     "ename": "ModuleNotFoundError",
     "evalue": "No module named 'wordcloud'",
     "output_type": "error",
     "traceback": [
      "\u001b[0;31m---------------------------------------------------------------------------\u001b[0m",
      "\u001b[0;31mModuleNotFoundError\u001b[0m                       Traceback (most recent call last)",
      "Input \u001b[0;32mIn [18]\u001b[0m, in \u001b[0;36m<cell line: 2>\u001b[0;34m()\u001b[0m\n\u001b[1;32m      1\u001b[0m \u001b[38;5;28;01mfrom\u001b[39;00m \u001b[38;5;21;01mcollections\u001b[39;00m \u001b[38;5;28;01mimport\u001b[39;00m Counter\n\u001b[0;32m----> 2\u001b[0m \u001b[38;5;28;01mfrom\u001b[39;00m \u001b[38;5;21;01mwordcloud\u001b[39;00m \u001b[38;5;28;01mimport\u001b[39;00m WordCloud\n\u001b[1;32m      3\u001b[0m \u001b[38;5;28;01mfrom\u001b[39;00m \u001b[38;5;21;01mmatplotlib\u001b[39;00m \u001b[38;5;28;01mimport\u001b[39;00m pyplot \u001b[38;5;28;01mas\u001b[39;00m plt\n",
      "\u001b[0;31mModuleNotFoundError\u001b[0m: No module named 'wordcloud'"
     ]
    }
   ],
   "source": [
    "from collections import Counter\n",
    "from wordcloud import WordCloud\n",
    "from matplotlib import pyplot as plt"
   ]
  },
  {
   "cell_type": "code",
   "execution_count": null,
   "metadata": {
    "id": "IXghRUxkKqYQ"
   },
   "outputs": [],
   "source": [
    "testStr =\"\""
   ]
  },
  {
   "cell_type": "code",
   "execution_count": null,
   "metadata": {
    "colab": {
     "base_uri": "https://localhost:8080/",
     "height": 173
    },
    "id": "kEe69t-_KtXN",
    "outputId": "b2183854-c4de-43f2-afd2-9d18a5af9e47"
   },
   "outputs": [],
   "source": [
    "stops.append('\\n')"
   ]
  },
  {
   "cell_type": "code",
   "execution_count": 12,
   "metadata": {
    "colab": {
     "base_uri": "https://localhost:8080/",
     "height": 351
    },
    "id": "hGUqUaAmK4PZ",
    "outputId": "b887bb41-84ef-4864-e632-b090a7c94c81"
   },
   "outputs": [
    {
     "ename": "ModuleNotFoundError",
     "evalue": "No module named 'jieba'",
     "output_type": "error",
     "traceback": [
      "\u001b[0;31m---------------------------------------------------------------------------\u001b[0m",
      "\u001b[0;31mModuleNotFoundError\u001b[0m                       Traceback (most recent call last)",
      "Input \u001b[0;32mIn [12]\u001b[0m, in \u001b[0;36m<cell line: 1>\u001b[0;34m()\u001b[0m\n\u001b[0;32m----> 1\u001b[0m \u001b[38;5;28;01mimport\u001b[39;00m \u001b[38;5;21;01mjieba\u001b[39;00m\n\u001b[1;32m      2\u001b[0m jieba\u001b[38;5;241m.\u001b[39mset_dictionary(\u001b[38;5;124m'\u001b[39m\u001b[38;5;124mdict.txt.big\u001b[39m\u001b[38;5;124m'\u001b[39m)  \u001b[38;5;66;03m# 如果是使用繁體文字，請記得去下載繁體字典來使用\u001b[39;00m\n\u001b[1;32m      3\u001b[0m \u001b[38;5;28;01mwith\u001b[39;00m \u001b[38;5;28mopen\u001b[39m(\u001b[38;5;124m'\u001b[39m\u001b[38;5;124mstops.txt\u001b[39m\u001b[38;5;124m'\u001b[39m, \u001b[38;5;124m'\u001b[39m\u001b[38;5;124mr\u001b[39m\u001b[38;5;124m'\u001b[39m, encoding\u001b[38;5;241m=\u001b[39m\u001b[38;5;124m'\u001b[39m\u001b[38;5;124mutf8\u001b[39m\u001b[38;5;124m'\u001b[39m) \u001b[38;5;28;01mas\u001b[39;00m f:  \u001b[38;5;66;03m# 中文的停用字，我也忘記從哪裡拿到的，效果還可以，繁體字的資源真的比較少，大家將就一下吧\u001b[39;00m\n",
      "\u001b[0;31mModuleNotFoundError\u001b[0m: No module named 'jieba'"
     ]
    }
   ],
   "source": [
    "import jieba\n",
    "jieba.set_dictionary('dict.txt.big')  # 如果是使用繁體文字，請記得去下載繁體字典來使用\n",
    "with open('stops.txt', 'r', encoding='utf8') as f:  # 中文的停用字，我也忘記從哪裡拿到的，效果還可以，繁體字的資源真的比較少，大家將就一下吧\n",
    "    stops = f.read().split('\\n') "
   ]
  },
  {
   "cell_type": "code",
   "execution_count": null,
   "metadata": {
    "id": "rIVvOCq5K5e_"
   },
   "outputs": [],
   "source": []
  }
 ],
 "metadata": {
  "colab": {
   "provenance": []
  },
  "kernelspec": {
   "display_name": "Python 3 (ipykernel)",
   "language": "python",
   "name": "python3"
  },
  "language_info": {
   "codemirror_mode": {
    "name": "ipython",
    "version": 3
   },
   "file_extension": ".py",
   "mimetype": "text/x-python",
   "name": "python",
   "nbconvert_exporter": "python",
   "pygments_lexer": "ipython3",
   "version": "3.9.12"
  }
 },
 "nbformat": 4,
 "nbformat_minor": 1
}
